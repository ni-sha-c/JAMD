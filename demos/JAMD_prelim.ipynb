{
 "cells": [
  {
   "cell_type": "code",
   "execution_count": 315,
   "metadata": {
    "collapsed": false
   },
   "outputs": [
    {
     "name": "stderr",
     "output_type": "stream",
     "text": [
      "Warning: replacing module MD_calc\n"
     ]
    }
   ],
   "source": [
    "using PyPlot\n",
    "import kin_init\n",
    "import MD_calc\n",
    "\n",
    "reload(\"MD_calc\")"
   ]
  },
  {
   "cell_type": "code",
   "execution_count": 306,
   "metadata": {
    "collapsed": false
   },
   "outputs": [
    {
     "data": {
      "text/plain": [
       "1.38065e-23"
      ]
     },
     "execution_count": 306,
     "metadata": {},
     "output_type": "execute_result"
    }
   ],
   "source": [
    "Ni = 2#8; #number of atoms per side in original cubic configuration \n",
    "Ts = 1.0; #desired (and initial) temperature in LJ units (Ts = kB*T/epsilon)\n",
    "ns = 0.05; #LJ number density ns = n*sigma^3\n",
    "epsilon = 1.65e-21; #LJ energy [J]\n",
    "sigma = 3.4e-10; #LJ diameter [m]\n",
    "m = 39.948*1.660538921e-27; #molecule mass [kg]\n",
    "kB = 1.38065e-23; #Boltzmann constant [J/K]"
   ]
  },
  {
   "cell_type": "code",
   "execution_count": 324,
   "metadata": {
    "collapsed": false
   },
   "outputs": [
    {
     "data": {
      "text/plain": [
       "0.005"
      ]
     },
     "execution_count": 324,
     "metadata": {},
     "output_type": "execute_result"
    }
   ],
   "source": [
    "rc = 3; #cut-off radius, in LJ units\n",
    "STEPS = 1000#1e4; #number of timesteps\n",
    "STEPS_thermostat = round(STEPS/10) #3*10^3; #number of steps to leave thermostat on until\n",
    "STEPS_equilib = round(STEPS/2) #4*10^3; #number of steps before starting to average\n",
    "alpha = 0.1; #thermostat relaxation parameter \n",
    "dt = 0.005; #time step, in LJ units"
   ]
  },
  {
   "cell_type": "code",
   "execution_count": 308,
   "metadata": {
    "collapsed": false
   },
   "outputs": [
    {
     "data": {
      "text/plain": [
       "9"
      ]
     },
     "execution_count": 308,
     "metadata": {},
     "output_type": "execute_result"
    }
   ],
   "source": [
    "N = Ni^3; #number of atoms \n",
    "Vs = N/ns; #volume of domain, in LJ units, Vs = V/sigma^3\n",
    "Ls = Vs^(1/3); #length of the domain in each direction, in LJ units\n",
    "T_set = Ts*epsilon/kB; #set temperature, in Kelvin\n",
    "P_LRC = 32/9*pi*ns^2*rc^-9. - 16/3*pi*ns^2*rc^-3.; #long-range P correction\n",
    "E_LRC = 8/9*pi*ns*rc^-9. - 8/3*pi*ns*rc^-3.; #long-range U correction (per particle)\n",
    "rc2 = rc^2; #square of cut-off radius"
   ]
  },
  {
   "cell_type": "code",
   "execution_count": 325,
   "metadata": {
    "collapsed": false
   },
   "outputs": [],
   "source": [
    "r = zeros(N,3); \n",
    "v = zeros(N,3);  \n",
    "F = zeros(N,3); \n",
    "U = zeros(N,1); \n",
    "Res = zeros(STEPS,2); \n",
    "positions = zeros(N,3,STEPS);\n",
    "#forces=zeros(N,N,3,STEPS);\n",
    "\n",
    "r,v=kin_init.initialize(Ls,Ni,Ts);"
   ]
  },
  {
   "cell_type": "code",
   "execution_count": null,
   "metadata": {
    "collapsed": true
   },
   "outputs": [],
   "source": []
  },
  {
   "cell_type": "code",
   "execution_count": 326,
   "metadata": {
    "collapsed": false
   },
   "outputs": [],
   "source": [
    "c = [sum(v[:,1]) sum(v[:,2]) sum(v[:,3])]/N;\n",
    "v = broadcast(-,v,c);"
   ]
  },
  {
   "cell_type": "code",
   "execution_count": 327,
   "metadata": {
    "collapsed": false
   },
   "outputs": [
    {
     "name": "stdout",
     "output_type": "stream",
     "text": [
      "[10.0 0.6994940426474635]\n",
      "[20.0 0.8952200515495603]\n",
      "[30.0 0.9634654910205422]\n",
      "[40.0 0.987261204399223]\n",
      "[50.0 0.9955582566211687]\n",
      "[60.0 0.9984512598473441]\n",
      "[70.0 0.9994599876994519]\n",
      "[80.0 0.9998117093534097]\n",
      "[90.0 0.9999343471110615]\n",
      "[100.0 0.9999771082530972]\n",
      "[110.0 0.9999771082530972]\n",
      "[120.0 0.9999771082530972]\n",
      "[130.0 0.9999771082530972]\n",
      "[140.0 0.9999771082530972]\n",
      "[150.0 0.9999771082530972]\n",
      "[160.0 0.9999771082530972]\n",
      "[170.0 0.9999771082530972]\n",
      "[180.0 0.9999771082530972]\n",
      "[190.0 0.9999771082530972]\n",
      "[200.0 0.9999771082530972]\n",
      "[210.0 0.9999771082530972]\n",
      "[220.0 0.9999771082530972]\n",
      "[230.0 0.9999771082530972]\n",
      "[240.0 0.9999771082530972]\n",
      "[250.0 0.9999771082530972]\n",
      "[260.0 0.9999771082530972]\n",
      "[270.0 0.9999771082530972]\n",
      "[280.0 0.9999771082530972]\n",
      "[290.0 0.9999771082530972]\n",
      "[300.0 0.9999771082530972]\n",
      "[310.0 0.9999771082530972]\n",
      "[320.0 0.9999771082530972]\n",
      "[330.0 0.9999771082530972]\n",
      "[340.0 0.9999771082530972]\n",
      "[350.0 0.9999771082530972]\n",
      "[360.0 0.9999771082530972]\n",
      "[370.0 0.9999771082530972]\n",
      "[380.0 0.9999771082530973]\n",
      "[390.0 0.9999771082530975]\n",
      "[400.0 0.9999771082530975]\n",
      "[410.0 0.9999771082530975]\n",
      "[420.0 0.9999771082530975]\n",
      "[430.0 0.9999771082530975]\n",
      "[440.0 0.9999771082530975]\n",
      "[450.0 0.9999771082530975]\n",
      "[460.0 0.9999771082530975]\n",
      "[470.0 0.9999771082530975]\n",
      "[480.0 0.9999771082530975]\n",
      "[490.0 0.9999771082530975]\n",
      "[500.0 0.9999771082530975]\n",
      "[510.0 0.9999771082530975]\n",
      "[520.0 0.9999771082530975]\n",
      "[530.0 0.9999771082530975]\n",
      "[540.0 0.9999771082530975]\n",
      "[550.0 0.9999771082530975]\n",
      "[560.0 0.9999771082530975]\n",
      "[570.0 0.9999771082530975]\n",
      "[580.0 0.9999771082530975]\n",
      "[590.0 0.9999771082530976]\n",
      "[600.0 0.9999771082530976]\n",
      "[610.0 0.9999771082530976]\n",
      "[620.0 0.9999771082530976]\n",
      "[630.0 0.9999771082530976]\n",
      "[640.0 0.9999771082530976]\n",
      "[650.0 0.9999771082530976]\n",
      "[660.0 0.9999771082530976]\n",
      "[670.0 0.9999771082530976]\n",
      "[680.0 0.9999771082530976]\n",
      "[690.0 0.9999771082530976]\n",
      "[700.0 0.9999771082530976]\n",
      "[710.0 0.9999771082530976]\n",
      "[720.0 0.9999771082530976]\n",
      "[730.0 0.9999771082530976]\n",
      "[740.0 0.9999771082530976]\n",
      "[750.0 0.9999771082530976]\n",
      "[760.0 0.9999771082530976]\n",
      "[770.0 0.9999771082530976]\n",
      "[780.0 0.9999771082530976]\n",
      "[790.0 0.9999771082530976]\n",
      "[800.0 0.9999771082530976]\n",
      "[810.0 0.9999771082530976]\n",
      "[820.0 0.9999771082530976]\n",
      "[830.0 0.9999771082530976]\n",
      "[840.0 0.9999771082530976]\n",
      "[850.0 0.9999771082530976]\n",
      "[860.0 0.9999771082530976]\n",
      "[870.0 0.9999771082530976]\n",
      "[880.0 0.9999771082530976]\n",
      "[890.0 0.9999771082530975]\n",
      "[900.0 0.9999771082530975]\n",
      "[910.0 0.9999771082530976]\n",
      "[920.0 0.9999771082530976]\n",
      "[930.0 0.9999771082530976]\n",
      "[940.0 0.9999771082530976]\n",
      "[950.0 0.9999771082530973]\n",
      "[960.0 0.9999771082530975]\n",
      "[970.0 0.9999771082530973]\n",
      "[980.0 0.9999771082530975]\n",
      "[990.0 0.9999771082530975]\n",
      "[1000.0 0.9999771082530975]\n"
     ]
    }
   ],
   "source": [
    "for t = 1:1:STEPS   \n",
    "\n",
    "    Uij = zeros(N,N);\n",
    "    Fij = zeros(N,N,3);\n",
    "    \n",
    "    (Fij,Uij,rij)= MD_calc.force_calculation_mod(N,r,Ls,rc2);\n",
    "    \n",
    "       \n",
    "    F[:,1] = sum(Fij[:,:,1]')';\n",
    "    F[:,2] = sum(Fij[:,:,2]')';\n",
    "    F[:,3] = sum(Fij[:,:,3]')';\n",
    "\n",
    "    (rnew,vnew,T_inst)= MD_calc.take_one_step_good(N,r,v,F,t,dt,Ls,STEPS_thermostat,alpha,Ts);\n",
    "    \n",
    "    r = rnew;\n",
    "    v = vnew;\n",
    "    \n",
    "    #[P,U]= P_and_U(N,Vs,rij,Fij,Uij,T_inst,P_LRC,E_LRC);\n",
    "    \n",
    "    Res[t,:] = [t T_inst]; #P U];\n",
    "\n",
    "    if mod(t,10)==0\n",
    "        print([t T_inst],\"\\n\") # write to screen        \n",
    "    end\n",
    "    \n",
    "end"
   ]
  },
  {
   "cell_type": "code",
   "execution_count": 272,
   "metadata": {
    "collapsed": false
   },
   "outputs": [
    {
     "name": "stdout",
     "output_type": "stream",
     "text": [
      "[1000.0 5.6279778467098165]\n",
      "[2000.0 24.47208617366038]\n",
      "[3000.0 76.45556017876133]\n",
      "[4000.0 58.98029577005315]\n",
      "[5000.0 21.62774809636622]\n",
      "[6000.0 15679.852031853548]\n",
      "[7000.0 206215.88917284465]\n",
      "[8000.0 1.6356144809370922e7]\n",
      "[9000.0 1.6672445971795943e7]\n",
      "[10000.0 1.6697952116989473e7]\n",
      "[11000.0 1.6638771120652635e7]\n",
      "[12000.0 3.158194312231987e14]\n",
      "[13000.0 3.1581960299114256e14]\n",
      "[14000.0 3.1581969350781406e14]\n",
      "[15000.0 3.158155720224756e14]\n",
      "[16000.0 3.158156798005525e14]\n",
      "[17000.0 3.158156798005525e14]\n",
      "[18000.0 3.158156798005525e14]\n",
      "[19000.0 3.158156798005525e14]\n",
      "[20000.0 3.158156798005525e14]\n",
      "[21000.0 3.158156798005525e14]\n",
      "[22000.0 3.158156798005525e14]\n",
      "[23000.0 3.158156798005525e14]\n",
      "[24000.0 3.158156798005525e14]\n",
      "[25000.0 3.158156798005525e14]\n",
      "[26000.0 3.158156798005525e14]\n",
      "[27000.0 3.158156798005525e14]\n",
      "[28000.0 3.158156798005525e14]\n",
      "[29000.0 3.158156798005525e14]\n",
      "[30000.0 3.158156798005525e14]\n",
      "[31000.0 3.158156798005525e14]\n",
      "[32000.0 3.158156798005525e14]\n",
      "[33000.0 3.158156798005525e14]\n",
      "[34000.0 3.158156798005525e14]\n",
      "[35000.0 3.158156798005525e14]\n",
      "[36000.0 3.158156798005525e14]\n",
      "[37000.0 3.158156798005525e14]\n",
      "[38000.0 3.158156798005525e14]\n",
      "[39000.0 3.158156798005525e14]\n",
      "[40000.0 3.158156798005525e14]\n",
      "[41000.0 3.158156798005525e14]\n",
      "[42000.0 3.158156798005525e14]\n",
      "[43000.0 3.158156798005525e14]\n",
      "[44000.0 3.158156798005525e14]\n",
      "[45000.0 3.158156798005525e14]\n",
      "[46000.0 3.158156798005525e14]\n",
      "[47000.0 3.158156798005525e14]\n",
      "[48000.0 3.158156798005525e14]\n",
      "[49000.0 3.158156798005525e14]\n",
      "[50000.0 3.158156798005525e14]\n",
      "elapsed time: 9.924056809 seconds\n"
     ]
    },
    {
     "data": {
      "text/plain": [
       "9.924056809"
      ]
     },
     "execution_count": 272,
     "metadata": {},
     "output_type": "execute_result"
    }
   ],
   "source": [
    "#INITIAL CALCULATION OF FORCES AND ENERGIES # NOT IN USE\n",
    "(F,U) = MD_calc.force_calculation_mod(N,r,Ls,rc2); \n",
    "\n",
    "tic()\n",
    "for t = 1:STEPS\n",
    "    (rnew,vnew) = MD_calc.take_half_step(r,v,F,dt,Ls)\n",
    "    (F,U) = MD_calc.force_calculation_mod(N,rnew,Ls,rc2);\n",
    "    (vnew,T_inst) = MD_calc.take_one_step(N,vnew,F,t,dt,STEPS_thermostat,alpha,Ts);   \n",
    "\n",
    "    r = rnew;\n",
    "    v = vnew;\n",
    "\n",
    "    #Axes3D.scatter(rnew[:,1],rnew[:,2],rnew[:,3]);\n",
    "    #if(abs(max(F))>1.e12)\n",
    "    #    disp('Gone! Everything is lost!');\n",
    "    #    break;\n",
    "    #end\n",
    "\n",
    "    #[P,u]= P_and_U_modified(N,Vs,rnew,F,U,T_inst,P_LRC,E_LRC);\n",
    "    \n",
    "    Res[t,:] = [t T_inst]; #P u];\n",
    "    positions[:,:,t]=rnew;\n",
    "    #forces[:,:,:,t]=F;\n",
    "\n",
    "    if mod(t,1000)==0\n",
    "        print([t T_inst],\"\\n\") # write to screen        \n",
    "    end\n",
    "end\n",
    "toc()"
   ]
  },
  {
   "cell_type": "code",
   "execution_count": 273,
   "metadata": {
    "collapsed": false
   },
   "outputs": [
    {
     "data": {
      "text/plain": [
       "50000x2 Array{Float64,2}:\n",
       "     1.0  0.265421  \n",
       "     2.0  0.33888   \n",
       "     3.0  0.404992  \n",
       "     4.0  0.464494  \n",
       "     5.0  0.518045  \n",
       "     6.0  0.566241  \n",
       "     7.0  0.609618  \n",
       "     8.0  0.648657  \n",
       "     9.0  0.683792  \n",
       "    10.0  0.715414  \n",
       "    11.0  0.743874  \n",
       "    12.0  0.769487  \n",
       "    13.0  0.79254   \n",
       "     ⋮              \n",
       " 49989.0  3.15816e14\n",
       " 49990.0  3.15816e14\n",
       " 49991.0  3.15816e14\n",
       " 49992.0  3.15816e14\n",
       " 49993.0  3.15816e14\n",
       " 49994.0  3.15816e14\n",
       " 49995.0  3.15816e14\n",
       " 49996.0  3.15816e14\n",
       " 49997.0  3.15816e14\n",
       " 49998.0  3.15816e14\n",
       " 49999.0  3.15816e14\n",
       " 50000.0  3.15816e14"
      ]
     },
     "execution_count": 273,
     "metadata": {},
     "output_type": "execute_result"
    }
   ],
   "source": [
    "Res"
   ]
  },
  {
   "cell_type": "code",
   "execution_count": 303,
   "metadata": {
    "collapsed": false
   },
   "outputs": [
    {
     "data": {
      "text/plain": [
       "8x3 Array{Float64,2}:\n",
       "       1.31886    3.98007     -1061.79    \n",
       "       2.69932    3.42899         3.01493 \n",
       "    1064.53       0.0252382       0.449126\n",
       "       2.39859    1.15264    147597.0     \n",
       "      -8.66334e9  0.779147        3.87328 \n",
       "      -2.29203e6  3.82711         0.788396\n",
       "    7939.03       4.6296          3.34378 \n",
       " -252561.0        2.59753         5.30376 "
      ]
     },
     "execution_count": 303,
     "metadata": {},
     "output_type": "execute_result"
    }
   ],
   "source": [
    "positions[:,:,30000]"
   ]
  },
  {
   "cell_type": "code",
   "execution_count": 275,
   "metadata": {
    "collapsed": false
   },
   "outputs": [
    {
     "data": {
      "text/plain": [
       "5.428835233189813"
      ]
     },
     "execution_count": 275,
     "metadata": {},
     "output_type": "execute_result"
    }
   ],
   "source": [
    "Ls"
   ]
  },
  {
   "cell_type": "code",
   "execution_count": 60,
   "metadata": {
    "collapsed": false
   },
   "outputs": [
    {
     "data": {
      "text/plain": [
       "8x3 Array{Float64,2}:\n",
       " -0.73974   -0.532541   -0.322447\n",
       "  0.683656  -0.32748    -0.579109\n",
       " -0.805619   0.375255    0.183346\n",
       "  0.333403   0.265038    1.16687 \n",
       "  0.298865   0.385898   -0.130192\n",
       "  0.460354   0.0169396  -0.790359\n",
       " -0.498688  -0.338197    0.243944\n",
       "  0.267706   0.155025    0.228008"
      ]
     },
     "execution_count": 60,
     "metadata": {},
     "output_type": "execute_result"
    }
   ],
   "source": [
    "vnew"
   ]
  },
  {
   "cell_type": "code",
   "execution_count": 61,
   "metadata": {
    "collapsed": false
   },
   "outputs": [
    {
     "data": {
      "text/plain": [
       "-6.28058133331777e-5"
      ]
     },
     "execution_count": 61,
     "metadata": {},
     "output_type": "execute_result"
    }
   ],
   "source": [
    "sum(vnew[:,1])"
   ]
  },
  {
   "cell_type": "code",
   "execution_count": 62,
   "metadata": {
    "collapsed": false
   },
   "outputs": [
    {
     "data": {
      "text/plain": [
       "1x3 Array{Float64,2}:\n",
       " -7.85073e-6  -7.83496e-6  7.81809e-6"
      ]
     },
     "execution_count": 62,
     "metadata": {},
     "output_type": "execute_result"
    }
   ],
   "source": [
    "[sum(vnew[:,1]) sum(vnew[:,2]) sum(vnew[:,3])]/N"
   ]
  },
  {
   "cell_type": "code",
   "execution_count": 86,
   "metadata": {
    "collapsed": false
   },
   "outputs": [
    {
     "data": {
      "text/plain": [
       "5x2 Array{Float64,2}:\n",
       " 1.0  0.315235\n",
       " 2.0  0.315235\n",
       " 3.0  0.315235\n",
       " 4.0  0.315235\n",
       " 5.0  0.315235"
      ]
     },
     "execution_count": 86,
     "metadata": {},
     "output_type": "execute_result"
    }
   ],
   "source": [
    "Res"
   ]
  },
  {
   "cell_type": "code",
   "execution_count": 76,
   "metadata": {
    "collapsed": false
   },
   "outputs": [],
   "source": [
    "(vnew,T_inst) = MD_calc.take_one_step(N,v,F,1,dt,STEPS_thermostat,alpha,Ts);   \n",
    "\n"
   ]
  },
  {
   "cell_type": "code",
   "execution_count": 77,
   "metadata": {
    "collapsed": false
   },
   "outputs": [
    {
     "data": {
      "text/plain": [
       "8x3 Array{Float64,2}:\n",
       "   0.823558  NaN  NaN\n",
       " NaN         NaN  NaN\n",
       " NaN         NaN  NaN\n",
       " NaN         NaN  NaN\n",
       " NaN         NaN  NaN\n",
       " NaN         NaN  NaN\n",
       " NaN         NaN  NaN\n",
       " NaN         NaN  NaN"
      ]
     },
     "execution_count": 77,
     "metadata": {},
     "output_type": "execute_result"
    }
   ],
   "source": [
    "vnew"
   ]
  },
  {
   "cell_type": "code",
   "execution_count": 78,
   "metadata": {
    "collapsed": false
   },
   "outputs": [
    {
     "data": {
      "text/plain": [
       "NaN"
      ]
     },
     "execution_count": 78,
     "metadata": {},
     "output_type": "execute_result"
    }
   ],
   "source": [
    "T_inst"
   ]
  },
  {
   "cell_type": "code",
   "execution_count": 75,
   "metadata": {
    "collapsed": false
   },
   "outputs": [
    {
     "data": {
      "text/plain": [
       "8x3 Array{Float64,2}:\n",
       " 0.823558   0.35244   0.839717\n",
       " 1.31097    0.296109  0.943219\n",
       " 0.106339   0.170874  0.113927\n",
       " 0.998036   0.845631  1.24674 \n",
       " 0.0384565  1.83876   1.49377 \n",
       " 0.813857   0.125209  0.571669\n",
       " 1.52412    1.80222   0.170394\n",
       " 1.26844    0.631742  1.50023 "
      ]
     },
     "execution_count": 75,
     "metadata": {},
     "output_type": "execute_result"
    }
   ],
   "source": [
    "v"
   ]
  },
  {
   "cell_type": "code",
   "execution_count": 79,
   "metadata": {
    "collapsed": false
   },
   "outputs": [
    {
     "data": {
      "text/plain": [
       "8x8x3 Array{Float64,3}:\n",
       "[:, :, 1] =\n",
       "   0.0  NaN  NaN  NaN  NaN  NaN  NaN  NaN\n",
       " NaN    NaN  NaN  NaN  NaN  NaN  NaN  NaN\n",
       " NaN    NaN  NaN  NaN  NaN  NaN  NaN  NaN\n",
       " NaN    NaN  NaN  NaN  NaN  NaN  NaN  NaN\n",
       " NaN    NaN  NaN  NaN  NaN  NaN  NaN  NaN\n",
       " NaN    NaN  NaN  NaN  NaN  NaN  NaN  NaN\n",
       " NaN    NaN  NaN  NaN  NaN  NaN  NaN  NaN\n",
       " NaN    NaN  NaN  NaN  NaN  NaN  NaN  NaN\n",
       "\n",
       "[:, :, 2] =\n",
       " NaN  NaN  NaN  NaN  NaN  NaN  NaN  NaN\n",
       " NaN  NaN  NaN  NaN  NaN  NaN  NaN  NaN\n",
       " NaN  NaN  NaN  NaN  NaN  NaN  NaN  NaN\n",
       " NaN  NaN  NaN  NaN  NaN  NaN  NaN  NaN\n",
       " NaN  NaN  NaN  NaN  NaN  NaN  NaN  NaN\n",
       " NaN  NaN  NaN  NaN  NaN  NaN  NaN  NaN\n",
       " NaN  NaN  NaN  NaN  NaN  NaN  NaN  NaN\n",
       " NaN  NaN  NaN  NaN  NaN  NaN  NaN  NaN\n",
       "\n",
       "[:, :, 3] =\n",
       " NaN  NaN  NaN  NaN  NaN  NaN  NaN  NaN\n",
       " NaN  NaN  NaN  NaN  NaN  NaN  NaN  NaN\n",
       " NaN  NaN  NaN  NaN  NaN  NaN  NaN  NaN\n",
       " NaN  NaN  NaN  NaN  NaN  NaN  NaN  NaN\n",
       " NaN  NaN  NaN  NaN  NaN  NaN  NaN  NaN\n",
       " NaN  NaN  NaN  NaN  NaN  NaN  NaN  NaN\n",
       " NaN  NaN  NaN  NaN  NaN  NaN  NaN  NaN\n",
       " NaN  NaN  NaN  NaN  NaN  NaN  NaN  NaN"
      ]
     },
     "execution_count": 79,
     "metadata": {},
     "output_type": "execute_result"
    }
   ],
   "source": [
    "F"
   ]
  },
  {
   "cell_type": "code",
   "execution_count": 80,
   "metadata": {
    "collapsed": true
   },
   "outputs": [],
   "source": [
    "    (F,U) = MD_calc.force_calculation_mod(N,r,Ls,rc2);\n",
    "\n"
   ]
  },
  {
   "cell_type": "code",
   "execution_count": 81,
   "metadata": {
    "collapsed": false
   },
   "outputs": [
    {
     "data": {
      "text/plain": [
       "8x8x3 Array{Float64,3}:\n",
       "[:, :, 1] =\n",
       "  0.0          -0.0           0.0219937    …   0.00138065    0.000272841\n",
       " -0.0           0.0           0.00138065       0.000272841   0.00138065 \n",
       " -0.0219937    -0.00138065    0.0             -0.0          -0.0        \n",
       " -0.00138065   -0.0219937    -0.0             -0.0          -0.0        \n",
       " -0.0          -0.0           0.00138065       0.0219937     0.00138065 \n",
       " -0.0          -0.0           0.000272841  …   0.00138065    0.0219937  \n",
       " -0.00138065   -0.000272841  -0.0              0.0          -0.0        \n",
       " -0.000272841  -0.00138065   -0.0             -0.0           0.0        \n",
       "\n",
       "[:, :, 2] =\n",
       "  0.0           0.0219937    -0.0          …  -0.0           0.000272841\n",
       " -0.0219937     0.0          -0.00138065      -0.000272841  -0.0        \n",
       " -0.0           0.00138065    0.0             -0.0           0.00138065 \n",
       " -0.00138065   -0.0          -0.0219937       -0.00138065   -0.0        \n",
       " -0.0           0.00138065   -0.0             -0.0           0.00138065 \n",
       " -0.00138065   -0.0          -0.000272841  …  -0.00138065   -0.0        \n",
       " -0.0           0.000272841  -0.0              0.0           0.0219937  \n",
       " -0.000272841  -0.0          -0.00138065      -0.0219937     0.0        \n",
       "\n",
       "[:, :, 3] =\n",
       "  0.0          -0.0          -0.0          …   0.00138065    0.000272841\n",
       " -0.0           0.0          -0.0              0.000272841   0.00138065 \n",
       " -0.0          -0.0           0.0              0.0219937     0.00138065 \n",
       " -0.0          -0.0          -0.0              0.00138065    0.0219937  \n",
       " -0.0219937    -0.00138065   -0.00138065      -0.0          -0.0        \n",
       " -0.00138065   -0.0219937    -0.000272841  …  -0.0          -0.0        \n",
       " -0.00138065   -0.000272841  -0.0219937        0.0          -0.0        \n",
       " -0.000272841  -0.00138065   -0.00138065      -0.0           0.0        "
      ]
     },
     "execution_count": 81,
     "metadata": {},
     "output_type": "execute_result"
    }
   ],
   "source": [
    "F"
   ]
  },
  {
   "cell_type": "code",
   "execution_count": 82,
   "metadata": {
    "collapsed": true
   },
   "outputs": [],
   "source": [
    "(vnew,T_inst) = MD_calc.take_one_step(N,v,F,1,dt,STEPS_thermostat,alpha,Ts);   \n",
    "\n"
   ]
  },
  {
   "cell_type": "code",
   "execution_count": 83,
   "metadata": {
    "collapsed": false
   },
   "outputs": [
    {
     "data": {
      "text/plain": [
       "8x3 Array{Float64,2}:\n",
       " 0.823558   0.35244   0.839772\n",
       " 1.31097    0.296109  0.943222\n",
       " 0.106284   0.17087   0.113927\n",
       " 0.998033   0.845576  1.24674 \n",
       " 0.0384565  1.83876   1.49377 \n",
       " 0.813857   0.125209  0.57167 \n",
       " 1.52412    1.80222   0.170394\n",
       " 1.26844    0.631739  1.50023 "
      ]
     },
     "execution_count": 83,
     "metadata": {},
     "output_type": "execute_result"
    }
   ],
   "source": [
    "vnew"
   ]
  },
  {
   "cell_type": "code",
   "execution_count": 84,
   "metadata": {
    "collapsed": false
   },
   "outputs": [
    {
     "data": {
      "text/plain": [
       "0.3152323559320227"
      ]
     },
     "execution_count": 84,
     "metadata": {},
     "output_type": "execute_result"
    }
   ],
   "source": [
    "T_inst"
   ]
  },
  {
   "cell_type": "code",
   "execution_count": 160,
   "metadata": {
    "collapsed": false
   },
   "outputs": [
    {
     "data": {
      "text/plain": [
       "8x3 Array{Float64,2}:\n",
       "  0.411043  -0.0468727   0.625911 \n",
       " -0.300794   0.362473   -0.794991 \n",
       "  0.363557  -0.458597    0.143336 \n",
       " -0.289557   0.973574    0.368802 \n",
       " -0.143763   0.303684   -0.556069 \n",
       "  0.544176  -0.775059    0.806894 \n",
       " -0.254854   0.30907    -0.621846 \n",
       " -0.329807  -0.668271    0.0279619"
      ]
     },
     "execution_count": 160,
     "metadata": {},
     "output_type": "execute_result"
    }
   ],
   "source": [
    "v"
   ]
  },
  {
   "cell_type": "code",
   "execution_count": 173,
   "metadata": {
    "collapsed": true
   },
   "outputs": [],
   "source": [
    "vx = v[:,1];\n",
    "    vy = v[:,2];\n",
    "    vz  = v[:,3];\n",
    "\n",
    "    ax = F[:,1];\n",
    "    ay = F[:,2];\n",
    "    az = F[:,3];\n",
    "\n",
    "    vxnew = vx + 0.5*dt*ax;\n",
    "    vynew = vy + 0.5*dt*ay;\n",
    "    vznew = vz + 0.5*dt*az;\n",
    "\n",
    "    vnew = hcat(vxnew, vynew, vznew);\n",
    "\n",
    "    c = [sum(vnew[:,1]) sum(vnew[:,2]) sum(vnew[:,3])]/N;\n",
    "    v_for_temp = broadcast(-,vnew,c);\n",
    "\n",
    "    T_inst = 1./(3.*N)*sum(v_for_temp.^2);\n"
   ]
  },
  {
   "cell_type": "code",
   "execution_count": 174,
   "metadata": {
    "collapsed": false
   },
   "outputs": [
    {
     "data": {
      "text/plain": [
       "0.2508661454437064"
      ]
     },
     "execution_count": 174,
     "metadata": {},
     "output_type": "execute_result"
    }
   ],
   "source": [
    "T_inst"
   ]
  },
  {
   "cell_type": "code",
   "execution_count": 175,
   "metadata": {
    "collapsed": true
   },
   "outputs": [],
   "source": [
    "        v_scal = sqrt(1 + 1*(1/T_inst - 1.));\n"
   ]
  },
  {
   "cell_type": "code",
   "execution_count": 176,
   "metadata": {
    "collapsed": false
   },
   "outputs": [
    {
     "data": {
      "text/plain": [
       "1.9965443948073118"
      ]
     },
     "execution_count": 176,
     "metadata": {},
     "output_type": "execute_result"
    }
   ],
   "source": [
    "v_scal"
   ]
  },
  {
   "cell_type": "code",
   "execution_count": 177,
   "metadata": {
    "collapsed": true
   },
   "outputs": [],
   "source": [
    "        vnew = v_scal*vnew;\n"
   ]
  },
  {
   "cell_type": "code",
   "execution_count": 178,
   "metadata": {
    "collapsed": false
   },
   "outputs": [
    {
     "data": {
      "text/plain": [
       "8x3 Array{Float64,2}:\n",
       "  0.820665  -0.0935835   1.24977  \n",
       " -0.600549   0.723693   -1.58723  \n",
       "  0.725748  -0.915615    0.286178 \n",
       " -0.578121   1.94367     0.73633  \n",
       " -0.287029   0.606318   -1.11021  \n",
       "  1.08647   -1.54744     1.611    \n",
       " -0.508834   0.617071   -1.24154  \n",
       " -0.658476  -1.33424     0.0558272"
      ]
     },
     "execution_count": 178,
     "metadata": {},
     "output_type": "execute_result"
    }
   ],
   "source": [
    "vnew"
   ]
  },
  {
   "cell_type": "code",
   "execution_count": 180,
   "metadata": {
    "collapsed": true
   },
   "outputs": [],
   "source": [
    "T_inst = 1./(3.*N)*sum(vnew.^2);\n"
   ]
  },
  {
   "cell_type": "code",
   "execution_count": 181,
   "metadata": {
    "collapsed": false
   },
   "outputs": [
    {
     "data": {
      "text/plain": [
       "1.0000000002442955"
      ]
     },
     "execution_count": 181,
     "metadata": {},
     "output_type": "execute_result"
    }
   ],
   "source": [
    "T_inst"
   ]
  },
  {
   "cell_type": "code",
   "execution_count": 223,
   "metadata": {
    "collapsed": false
   },
   "outputs": [
    {
     "data": {
      "text/plain": [
       "1x9 Array{Int64,2}:\n",
       " 1  2  3  4  5  6  3  1  -10"
      ]
     },
     "execution_count": 223,
     "metadata": {},
     "output_type": "execute_result"
    }
   ],
   "source": [
    "xnew=[1 2 3 4 5 6 3 1 -10]"
   ]
  },
  {
   "cell_type": "code",
   "execution_count": null,
   "metadata": {
    "collapsed": true
   },
   "outputs": [],
   "source": [
    "Ls="
   ]
  }
 ],
 "metadata": {
  "kernelspec": {
   "display_name": "Julia 0.3.11",
   "language": "julia",
   "name": "julia-0.3"
  },
  "language_info": {
   "file_extension": ".jl",
   "mimetype": "application/julia",
   "name": "julia",
   "version": "0.3.11"
  }
 },
 "nbformat": 4,
 "nbformat_minor": 0
}
